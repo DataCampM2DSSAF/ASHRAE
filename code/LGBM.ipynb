{
 "cells": [
  {
   "cell_type": "code",
   "execution_count": 53,
   "metadata": {},
   "outputs": [],
   "source": [
    "import gc, math, pickle, datetime, os, random\n",
    "import numpy as np \n",
    "import pandas as pd \n",
    "from sklearn.model_selection import train_test_split\n",
    "from sklearn.metrics import mean_squared_log_error\n",
    "from sklearn.metrics import mean_squared_log_error\n",
    "from sklearn.preprocessing import LabelEncoder\n",
    "import lightgbm as lgb\n",
    "import matplotlib.pyplot as plt\n",
    "import seaborn as sns\n",
    "\n",
    "from pandas.plotting import register_matplotlib_converters\n",
    "register_matplotlib_converters()"
   ]
  },
  {
   "cell_type": "code",
   "execution_count": 54,
   "metadata": {},
   "outputs": [],
   "source": [
    "def reduce_mem_usage(df, verbose=True):\n",
    "    \"\"\"\n",
    "    :param df: Dataframe with columns unprocessed so they use more memory than needed\n",
    "    \n",
    "    :returns:\n",
    "        df -> Dataframe with lower memory use\n",
    "    \"\"\"\n",
    "    numerics = ['int16', 'int32', 'int64', 'float16', 'float32', 'float64']\n",
    "    start_mem = df.memory_usage().sum() / 1024**2    \n",
    "    for col in df.columns:\n",
    "        col_type = df[col].dtypes\n",
    "        if col_type in numerics:\n",
    "            c_min = df[col].min()\n",
    "            c_max = df[col].max()\n",
    "            if str(col_type)[:3] == 'int':\n",
    "                if c_min > np.iinfo(np.int8).min and c_max < np.iinfo(np.int8).max:\n",
    "                    df[col] = df[col].astype(np.int8)\n",
    "                elif c_min > np.iinfo(np.int16).min and c_max < np.iinfo(np.int16).max:\n",
    "                    df[col] = df[col].astype(np.int16)\n",
    "                elif c_min > np.iinfo(np.int32).min and c_max < np.iinfo(np.int32).max:\n",
    "                    df[col] = df[col].astype(np.int32)\n",
    "                elif c_min > np.iinfo(np.int64).min and c_max < np.iinfo(np.int64).max:\n",
    "                    df[col] = df[col].astype(np.int64)  \n",
    "            else:\n",
    "                if c_min > np.finfo(np.float16).min and c_max < np.finfo(np.float16).max:\n",
    "                    df[col] = df[col].astype(np.float16)\n",
    "                elif c_min > np.finfo(np.float32).min and c_max < np.finfo(np.float32).max:\n",
    "                    df[col] = df[col].astype(np.float32)\n",
    "                else:\n",
    "                    df[col] = df[col].astype(np.float64)    \n",
    "    end_mem = df.memory_usage().sum() / 1024**2\n",
    "    if verbose: print('Mem. usage decreased to {:5.2f} Mb ({:.1f}% reduction)'.format(end_mem, 100 * (start_mem - end_mem) / start_mem))\n",
    "    return df\n",
    "\n"
   ]
  },
  {
   "cell_type": "code",
   "execution_count": 95,
   "metadata": {},
   "outputs": [],
   "source": [
    "def clean_timestamps(df):\n",
    "    \"\"\"\n",
    "    :param df: Dataframe containing a \"timestamp\" field which will be broken down in hour, year, day,...\n",
    "    \"\"\"\n",
    "    df['timestamp'] = pd.to_datetime(df['timestamp'])\n",
    "    df[\"year\"] = df[\"timestamp\"].dt.year.astype(np.uint16)\n",
    "    df[\"month\"] = df[\"timestamp\"].dt.month.astype(np.uint8)\n",
    "    df[\"day\"] = df[\"timestamp\"].dt.day.astype(np.uint8)\n",
    "    df[\"hour\"] = df[\"timestamp\"].dt.hour.astype(np.uint8)\n",
    "    df[\"weekend\"] = df[\"timestamp\"].dt.weekday.astype(np.uint8)\n",
    "    \n",
    "def drop_cols(df):\n",
    "    \"\"\"\n",
    "    :param df: Dataframe with unnecessary cols\n",
    "    \n",
    "    :returns:\n",
    "            df -> dataframe containing only the desired columns\n",
    "    \"\"\"\n",
    "    #drop_cols = ['timestamp','primary_use', 'site_id', 'floor_count',\"precip_depth_1_hr\", \"sea_level_pressure\", \"wind_direction\", \"wind_speed\", \"building_id\"]\n",
    "    drop_cols = ['timestamp']\n",
    "    df = df.drop(drop_cols, axis = 1)\n",
    "    return df\n",
    "\n",
    "# Predictions lower than zero are turned zero\n",
    "def fix_predictions(y):\n",
    "    \"\"\"\n",
    "    :param y: Column with predictions\n",
    "    \"\"\"\n",
    "    y[y < 0] = 0\n",
    "\n",
    "# Fill given categories with their average values\n",
    "def fill_averages(df):\n",
    "    \"\"\"\n",
    "    :param df: Dataframe containing normal and nan values\n",
    "    \"\"\"\n",
    "    data_ratios = df.count()/len(df)\n",
    "    cols = data_ratios[data_ratios < 1.0].index\n",
    "    for col in cols:\n",
    "        df[col] = df[col].fillna(-1)\n",
    "        df[col] = df[col].astype(np.int8)\n",
    "        more_zero = df[col] >= 0\n",
    "        less_zero = df[col] < 0\n",
    "        mean = df[more_zero][col].mean()\n",
    "        df.loc[less_zero, col] = mean"
   ]
  },
  {
   "cell_type": "markdown",
   "metadata": {},
   "source": [
    "## Download  data"
   ]
  },
  {
   "cell_type": "code",
   "execution_count": 104,
   "metadata": {},
   "outputs": [],
   "source": [
    "train = pd.read_csv('ashrae-energy-prediction/train.csv')\n",
    "test = pd.read_csv('ashrae-energy-prediction/test.csv')\n",
    "weather_train= pd.read_csv('ashrae-energy-prediction/weather_train.csv')\n",
    "weather_test = pd.read_csv('ashrae-energy-prediction/weather_test.csv')\n",
    "meta = pd.read_csv('ashrae-energy-prediction/building_metadata.csv')"
   ]
  },
  {
   "cell_type": "code",
   "execution_count": 105,
   "metadata": {},
   "outputs": [
    {
     "name": "stdout",
     "output_type": "stream",
     "text": [
      "Mem. usage decreased to 289.19 Mb (53.1% reduction)\n",
      "Mem. usage decreased to 596.49 Mb (53.1% reduction)\n",
      "Mem. usage decreased to  3.07 Mb (68.1% reduction)\n",
      "Mem. usage decreased to  6.08 Mb (68.1% reduction)\n",
      "Mem. usage decreased to  0.03 Mb (60.3% reduction)\n"
     ]
    }
   ],
   "source": [
    "train = reduce_mem_usage(train)\n",
    "test = reduce_mem_usage(test)\n",
    "weather_train = reduce_mem_usage(weather_train)\n",
    "weather_test = reduce_mem_usage(weather_test)\n",
    "meta= reduce_mem_usage(meta)"
   ]
  },
  {
   "cell_type": "code",
   "execution_count": 106,
   "metadata": {},
   "outputs": [],
   "source": [
    "def description(df):\n",
    "    summary = pd.DataFrame(df.dtypes,columns=['dtypes'])\n",
    "    summary = summary.reset_index()\n",
    "    summary['Name'] = summary['index']\n",
    "    summary = summary[['Name','dtypes']]\n",
    "    summary['Missing'] = df.isnull().sum().values    \n",
    "    summary['Uniques'] = df.nunique().values\n",
    "    summary['First Value'] = df.iloc[0].values\n",
    "    summary['Second Value'] = df.iloc[1].values\n",
    "    summary['Third Value'] = df.iloc[2].values\n",
    "    return summary"
   ]
  },
  {
   "cell_type": "code",
   "execution_count": 107,
   "metadata": {},
   "outputs": [],
   "source": [
    "#description(train)"
   ]
  },
  {
   "cell_type": "code",
   "execution_count": 108,
   "metadata": {},
   "outputs": [],
   "source": [
    "#description(weather_train)"
   ]
  },
  {
   "cell_type": "code",
   "execution_count": 109,
   "metadata": {},
   "outputs": [],
   "source": [
    "# description(meta)"
   ]
  },
  {
   "cell_type": "code",
   "execution_count": 110,
   "metadata": {},
   "outputs": [],
   "source": [
    "train = train.merge(meta, on='building_id', how='left')\n",
    "train = train.merge(weather_train, on=['site_id', 'timestamp'], how='left')\n",
    "test =test.merge(meta, on='building_id', how='left')\n",
    "test =test.merge(weather_test, on=['site_id', 'timestamp'], how='left')"
   ]
  },
  {
   "cell_type": "code",
   "execution_count": null,
   "metadata": {},
   "outputs": [],
   "source": [
    "del weather_test\n",
    "del weather_train\n",
    "del meta\n",
    "gc.collect()"
   ]
  },
  {
   "cell_type": "code",
   "execution_count": 58,
   "metadata": {},
   "outputs": [
    {
     "name": "stdout",
     "output_type": "stream",
     "text": [
      "Mem. usage decreased to 596.49 Mb (53.1% reduction)\n"
     ]
    }
   ],
   "source": [
    "# test = reduce_mem_usage(pd.read_csv('ashrae-energy-prediction/test.csv'))"
   ]
  },
  {
   "cell_type": "code",
   "execution_count": 111,
   "metadata": {},
   "outputs": [
    {
     "name": "stdout",
     "output_type": "stream",
     "text": [
      "(20216100, 16)\n",
      "(41697600, 16)\n"
     ]
    }
   ],
   "source": [
    "print(train.shape)\n",
    "print(test.shape)"
   ]
  },
  {
   "cell_type": "markdown",
   "metadata": {},
   "source": [
    "## Preprocessing"
   ]
  },
  {
   "cell_type": "code",
   "execution_count": 112,
   "metadata": {},
   "outputs": [],
   "source": [
    "clean_timestamps(train)"
   ]
  },
  {
   "cell_type": "code",
   "execution_count": 113,
   "metadata": {},
   "outputs": [
    {
     "data": {
      "text/html": [
       "<div>\n",
       "<style scoped>\n",
       "    .dataframe tbody tr th:only-of-type {\n",
       "        vertical-align: middle;\n",
       "    }\n",
       "\n",
       "    .dataframe tbody tr th {\n",
       "        vertical-align: top;\n",
       "    }\n",
       "\n",
       "    .dataframe thead th {\n",
       "        text-align: right;\n",
       "    }\n",
       "</style>\n",
       "<table border=\"1\" class=\"dataframe\">\n",
       "  <thead>\n",
       "    <tr style=\"text-align: right;\">\n",
       "      <th></th>\n",
       "      <th>building_id</th>\n",
       "      <th>meter</th>\n",
       "      <th>site_id</th>\n",
       "      <th>primary_use</th>\n",
       "      <th>square_feet</th>\n",
       "      <th>year_built</th>\n",
       "      <th>floor_count</th>\n",
       "      <th>air_temperature</th>\n",
       "      <th>cloud_coverage</th>\n",
       "      <th>dew_temperature</th>\n",
       "      <th>precip_depth_1_hr</th>\n",
       "      <th>sea_level_pressure</th>\n",
       "      <th>wind_direction</th>\n",
       "      <th>wind_speed</th>\n",
       "      <th>year</th>\n",
       "      <th>month</th>\n",
       "      <th>day</th>\n",
       "      <th>hour</th>\n",
       "      <th>weekend</th>\n",
       "    </tr>\n",
       "  </thead>\n",
       "  <tbody>\n",
       "    <tr>\n",
       "      <th>0</th>\n",
       "      <td>0</td>\n",
       "      <td>0</td>\n",
       "      <td>0</td>\n",
       "      <td>0</td>\n",
       "      <td>7432</td>\n",
       "      <td>2008.0</td>\n",
       "      <td>NaN</td>\n",
       "      <td>25.0</td>\n",
       "      <td>6.0</td>\n",
       "      <td>20.0</td>\n",
       "      <td>NaN</td>\n",
       "      <td>1019.5</td>\n",
       "      <td>0.0</td>\n",
       "      <td>0.0</td>\n",
       "      <td>2016</td>\n",
       "      <td>1</td>\n",
       "      <td>1</td>\n",
       "      <td>0</td>\n",
       "      <td>4</td>\n",
       "    </tr>\n",
       "    <tr>\n",
       "      <th>1</th>\n",
       "      <td>1</td>\n",
       "      <td>0</td>\n",
       "      <td>0</td>\n",
       "      <td>0</td>\n",
       "      <td>2720</td>\n",
       "      <td>2004.0</td>\n",
       "      <td>NaN</td>\n",
       "      <td>25.0</td>\n",
       "      <td>6.0</td>\n",
       "      <td>20.0</td>\n",
       "      <td>NaN</td>\n",
       "      <td>1019.5</td>\n",
       "      <td>0.0</td>\n",
       "      <td>0.0</td>\n",
       "      <td>2016</td>\n",
       "      <td>1</td>\n",
       "      <td>1</td>\n",
       "      <td>0</td>\n",
       "      <td>4</td>\n",
       "    </tr>\n",
       "    <tr>\n",
       "      <th>2</th>\n",
       "      <td>2</td>\n",
       "      <td>0</td>\n",
       "      <td>0</td>\n",
       "      <td>0</td>\n",
       "      <td>5376</td>\n",
       "      <td>1991.0</td>\n",
       "      <td>NaN</td>\n",
       "      <td>25.0</td>\n",
       "      <td>6.0</td>\n",
       "      <td>20.0</td>\n",
       "      <td>NaN</td>\n",
       "      <td>1019.5</td>\n",
       "      <td>0.0</td>\n",
       "      <td>0.0</td>\n",
       "      <td>2016</td>\n",
       "      <td>1</td>\n",
       "      <td>1</td>\n",
       "      <td>0</td>\n",
       "      <td>4</td>\n",
       "    </tr>\n",
       "    <tr>\n",
       "      <th>3</th>\n",
       "      <td>3</td>\n",
       "      <td>0</td>\n",
       "      <td>0</td>\n",
       "      <td>0</td>\n",
       "      <td>23685</td>\n",
       "      <td>2002.0</td>\n",
       "      <td>NaN</td>\n",
       "      <td>25.0</td>\n",
       "      <td>6.0</td>\n",
       "      <td>20.0</td>\n",
       "      <td>NaN</td>\n",
       "      <td>1019.5</td>\n",
       "      <td>0.0</td>\n",
       "      <td>0.0</td>\n",
       "      <td>2016</td>\n",
       "      <td>1</td>\n",
       "      <td>1</td>\n",
       "      <td>0</td>\n",
       "      <td>4</td>\n",
       "    </tr>\n",
       "    <tr>\n",
       "      <th>4</th>\n",
       "      <td>4</td>\n",
       "      <td>0</td>\n",
       "      <td>0</td>\n",
       "      <td>0</td>\n",
       "      <td>116607</td>\n",
       "      <td>1975.0</td>\n",
       "      <td>NaN</td>\n",
       "      <td>25.0</td>\n",
       "      <td>6.0</td>\n",
       "      <td>20.0</td>\n",
       "      <td>NaN</td>\n",
       "      <td>1019.5</td>\n",
       "      <td>0.0</td>\n",
       "      <td>0.0</td>\n",
       "      <td>2016</td>\n",
       "      <td>1</td>\n",
       "      <td>1</td>\n",
       "      <td>0</td>\n",
       "      <td>4</td>\n",
       "    </tr>\n",
       "  </tbody>\n",
       "</table>\n",
       "</div>"
      ],
      "text/plain": [
       "   building_id  meter  site_id  primary_use  square_feet  year_built  \\\n",
       "0            0      0        0            0         7432      2008.0   \n",
       "1            1      0        0            0         2720      2004.0   \n",
       "2            2      0        0            0         5376      1991.0   \n",
       "3            3      0        0            0        23685      2002.0   \n",
       "4            4      0        0            0       116607      1975.0   \n",
       "\n",
       "   floor_count  air_temperature  cloud_coverage  dew_temperature  \\\n",
       "0          NaN             25.0             6.0             20.0   \n",
       "1          NaN             25.0             6.0             20.0   \n",
       "2          NaN             25.0             6.0             20.0   \n",
       "3          NaN             25.0             6.0             20.0   \n",
       "4          NaN             25.0             6.0             20.0   \n",
       "\n",
       "   precip_depth_1_hr  sea_level_pressure  wind_direction  wind_speed  year  \\\n",
       "0                NaN              1019.5             0.0         0.0  2016   \n",
       "1                NaN              1019.5             0.0         0.0  2016   \n",
       "2                NaN              1019.5             0.0         0.0  2016   \n",
       "3                NaN              1019.5             0.0         0.0  2016   \n",
       "4                NaN              1019.5             0.0         0.0  2016   \n",
       "\n",
       "   month  day  hour  weekend  \n",
       "0      1    1     0        4  \n",
       "1      1    1     0        4  \n",
       "2      1    1     0        4  \n",
       "3      1    1     0        4  \n",
       "4      1    1     0        4  "
      ]
     },
     "execution_count": 113,
     "metadata": {},
     "output_type": "execute_result"
    }
   ],
   "source": [
    "train = drop_cols(train)\n",
    "\n",
    "train_y = np.log1p(train['meter_reading'])\n",
    "\n",
    "train_x = train.drop('meter_reading', axis=1)\n",
    "train_x['primary_use'] = LabelEncoder().fit_transform(train_x['primary_use'])\n",
    "\n",
    "train_x.head()"
   ]
  },
  {
   "cell_type": "code",
   "execution_count": null,
   "metadata": {},
   "outputs": [],
   "source": [
    "del train\n",
    "gc.collect()"
   ]
  },
  {
   "cell_type": "markdown",
   "metadata": {},
   "source": [
    "##  LGBM "
   ]
  },
  {
   "cell_type": "code",
   "execution_count": 69,
   "metadata": {},
   "outputs": [],
   "source": [
    "# Train and Validation splits\n",
    "test_size = 0.20\n",
    "X_train, X_val, y_train, y_val = train_test_split(train_x, train_y, test_size=test_size, random_state=SEED)"
   ]
  },
  {
   "cell_type": "code",
   "execution_count": 70,
   "metadata": {},
   "outputs": [],
   "source": [
    "  lgb_params = {\n",
    "                    'objective':'regression',\n",
    "                    'boosting_type':'gbdt',\n",
    "                    'metric':'rmse',\n",
    "                    'n_jobs':-1,\n",
    "                    'learning_rate':0.07,\n",
    "                    'num_leaves': 2**8,\n",
    "                    'max_depth':-1,\n",
    "                    'tree_learner':'serial',\n",
    "                    'colsample_bytree': 0.7,\n",
    "                    'subsample_freq':1,\n",
    "                    'subsample':0.5,\n",
    "                    'n_estimators':8500,\n",
    "                    'max_bin':255,\n",
    "                    'verbose':1,\n",
    "                    'seed': SEED,\n",
    "                    'early_stopping_rounds':3500, \n",
    "                } "
   ]
  },
  {
   "cell_type": "code",
   "execution_count": 71,
   "metadata": {},
   "outputs": [
    {
     "data": {
      "text/plain": [
       "66"
      ]
     },
     "execution_count": 71,
     "metadata": {},
     "output_type": "execute_result"
    }
   ],
   "source": [
    "del train_x\n",
    "del train_y\n",
    "\n",
    "gc.collect()"
   ]
  },
  {
   "cell_type": "code",
   "execution_count": 72,
   "metadata": {},
   "outputs": [],
   "source": [
    "# load model once already trained\n",
    "#print('Loading model')\n",
    "#gbm = lgb.Booster(model_file= PATH + 'lgb_classifier_24-10-2019.txt')"
   ]
  },
  {
   "cell_type": "code",
   "execution_count": 73,
   "metadata": {},
   "outputs": [
    {
     "name": "stderr",
     "output_type": "stream",
     "text": [
      "/opt/conda/lib/python3.7/site-packages/lightgbm/engine.py:151: UserWarning: Found `n_estimators` in params. Will use it instead of argument\n",
      "  warnings.warn(\"Found `{}` in params. Will use it instead of argument\".format(alias))\n",
      "/opt/conda/lib/python3.7/site-packages/lightgbm/engine.py:156: UserWarning: Found `early_stopping_rounds` in params. Will use it instead of argument\n",
      "  warnings.warn(\"Found `{}` in params. Will use it instead of argument\".format(alias))\n"
     ]
    },
    {
     "name": "stdout",
     "output_type": "stream",
     "text": [
      "[LightGBM] [Warning] Auto-choosing col-wise multi-threading, the overhead of testing was 1.382491 seconds.\n",
      "You can set `force_col_wise=true` to remove the overhead.\n",
      "[LightGBM] [Info] Total Bins 1512\n",
      "[LightGBM] [Info] Number of data points in the train set: 16100484, number of used features: 19\n",
      "[LightGBM] [Info] Start training from score 4.144695\n",
      "Training until validation scores don't improve for 3500 rounds\n",
      "[50]\ttraining's rmse: 1.11865\tvalid_1's rmse: 1.11757\n",
      "[100]\ttraining's rmse: 0.949788\tvalid_1's rmse: 0.948884\n",
      "[150]\ttraining's rmse: 0.880915\tvalid_1's rmse: 0.880579\n",
      "[200]\ttraining's rmse: 0.839004\tvalid_1's rmse: 0.839112\n",
      "[250]\ttraining's rmse: 0.805925\tvalid_1's rmse: 0.80639\n",
      "[300]\ttraining's rmse: 0.78316\tvalid_1's rmse: 0.784037\n",
      "[350]\ttraining's rmse: 0.765444\tvalid_1's rmse: 0.766826\n",
      "[400]\ttraining's rmse: 0.750916\tvalid_1's rmse: 0.752742\n",
      "[450]\ttraining's rmse: 0.734874\tvalid_1's rmse: 0.737289\n",
      "[500]\ttraining's rmse: 0.721438\tvalid_1's rmse: 0.724419\n",
      "[550]\ttraining's rmse: 0.709341\tvalid_1's rmse: 0.712869\n",
      "[600]\ttraining's rmse: 0.699399\tvalid_1's rmse: 0.703471\n",
      "[650]\ttraining's rmse: 0.691581\tvalid_1's rmse: 0.696155\n",
      "[700]\ttraining's rmse: 0.682794\tvalid_1's rmse: 0.687878\n",
      "[750]\ttraining's rmse: 0.675035\tvalid_1's rmse: 0.680534\n",
      "[800]\ttraining's rmse: 0.667967\tvalid_1's rmse: 0.674004\n",
      "[850]\ttraining's rmse: 0.660985\tvalid_1's rmse: 0.667474\n",
      "[900]\ttraining's rmse: 0.654766\tvalid_1's rmse: 0.661688\n",
      "[950]\ttraining's rmse: 0.648741\tvalid_1's rmse: 0.65616\n",
      "[1000]\ttraining's rmse: 0.643553\tvalid_1's rmse: 0.651441\n",
      "[1050]\ttraining's rmse: 0.638977\tvalid_1's rmse: 0.647297\n",
      "[1100]\ttraining's rmse: 0.634331\tvalid_1's rmse: 0.643119\n",
      "[1150]\ttraining's rmse: 0.629052\tvalid_1's rmse: 0.638326\n",
      "[1200]\ttraining's rmse: 0.625012\tvalid_1's rmse: 0.634761\n",
      "[1250]\ttraining's rmse: 0.62028\tvalid_1's rmse: 0.630486\n",
      "[1300]\ttraining's rmse: 0.614959\tvalid_1's rmse: 0.625612\n",
      "[1350]\ttraining's rmse: 0.611269\tvalid_1's rmse: 0.622402\n",
      "[1400]\ttraining's rmse: 0.608234\tvalid_1's rmse: 0.619751\n",
      "[1450]\ttraining's rmse: 0.60485\tvalid_1's rmse: 0.61676\n",
      "[1500]\ttraining's rmse: 0.601421\tvalid_1's rmse: 0.61377\n",
      "[1550]\ttraining's rmse: 0.598917\tvalid_1's rmse: 0.611705\n",
      "[1600]\ttraining's rmse: 0.595707\tvalid_1's rmse: 0.608961\n",
      "[1650]\ttraining's rmse: 0.592915\tvalid_1's rmse: 0.60657\n",
      "[1700]\ttraining's rmse: 0.589793\tvalid_1's rmse: 0.603907\n",
      "[1750]\ttraining's rmse: 0.587095\tvalid_1's rmse: 0.601675\n",
      "[1800]\ttraining's rmse: 0.584902\tvalid_1's rmse: 0.599884\n",
      "[1850]\ttraining's rmse: 0.582398\tvalid_1's rmse: 0.597822\n",
      "[1900]\ttraining's rmse: 0.579956\tvalid_1's rmse: 0.595864\n",
      "[1950]\ttraining's rmse: 0.577266\tvalid_1's rmse: 0.593611\n",
      "[2000]\ttraining's rmse: 0.574848\tvalid_1's rmse: 0.591654\n",
      "[2050]\ttraining's rmse: 0.572387\tvalid_1's rmse: 0.589658\n",
      "[2100]\ttraining's rmse: 0.570561\tvalid_1's rmse: 0.588223\n",
      "[2150]\ttraining's rmse: 0.56844\tvalid_1's rmse: 0.58651\n",
      "[2200]\ttraining's rmse: 0.56622\tvalid_1's rmse: 0.584691\n",
      "[2250]\ttraining's rmse: 0.564289\tvalid_1's rmse: 0.583212\n",
      "[2300]\ttraining's rmse: 0.562493\tvalid_1's rmse: 0.581814\n",
      "[2350]\ttraining's rmse: 0.560091\tvalid_1's rmse: 0.57979\n",
      "[2400]\ttraining's rmse: 0.557929\tvalid_1's rmse: 0.578023\n",
      "[2450]\ttraining's rmse: 0.55624\tvalid_1's rmse: 0.576755\n",
      "[2500]\ttraining's rmse: 0.554244\tvalid_1's rmse: 0.575203\n",
      "[2550]\ttraining's rmse: 0.552398\tvalid_1's rmse: 0.573797\n",
      "[2600]\ttraining's rmse: 0.550682\tvalid_1's rmse: 0.572477\n",
      "[2650]\ttraining's rmse: 0.548883\tvalid_1's rmse: 0.571053\n",
      "[2700]\ttraining's rmse: 0.547382\tvalid_1's rmse: 0.569929\n",
      "[2750]\ttraining's rmse: 0.545771\tvalid_1's rmse: 0.568724\n",
      "[2800]\ttraining's rmse: 0.544256\tvalid_1's rmse: 0.567618\n",
      "[2850]\ttraining's rmse: 0.542762\tvalid_1's rmse: 0.566516\n",
      "[2900]\ttraining's rmse: 0.541156\tvalid_1's rmse: 0.565303\n",
      "[2950]\ttraining's rmse: 0.539533\tvalid_1's rmse: 0.564073\n",
      "[3000]\ttraining's rmse: 0.53784\tvalid_1's rmse: 0.562771\n",
      "[3050]\ttraining's rmse: 0.535925\tvalid_1's rmse: 0.561293\n",
      "[3100]\ttraining's rmse: 0.534442\tvalid_1's rmse: 0.56018\n",
      "[3150]\ttraining's rmse: 0.533022\tvalid_1's rmse: 0.559118\n",
      "[3200]\ttraining's rmse: 0.531394\tvalid_1's rmse: 0.55784\n",
      "[3250]\ttraining's rmse: 0.530081\tvalid_1's rmse: 0.556882\n",
      "[3300]\ttraining's rmse: 0.528643\tvalid_1's rmse: 0.555779\n",
      "[3350]\ttraining's rmse: 0.527181\tvalid_1's rmse: 0.554675\n",
      "[3400]\ttraining's rmse: 0.525968\tvalid_1's rmse: 0.553838\n",
      "[3450]\ttraining's rmse: 0.524664\tvalid_1's rmse: 0.552911\n",
      "[3500]\ttraining's rmse: 0.523467\tvalid_1's rmse: 0.552076\n",
      "[3550]\ttraining's rmse: 0.522097\tvalid_1's rmse: 0.551079\n",
      "[3600]\ttraining's rmse: 0.520963\tvalid_1's rmse: 0.550299\n",
      "[3650]\ttraining's rmse: 0.519873\tvalid_1's rmse: 0.54956\n",
      "[3700]\ttraining's rmse: 0.518499\tvalid_1's rmse: 0.548602\n",
      "[3750]\ttraining's rmse: 0.517278\tvalid_1's rmse: 0.547779\n",
      "[3800]\ttraining's rmse: 0.515983\tvalid_1's rmse: 0.546843\n",
      "[3850]\ttraining's rmse: 0.514949\tvalid_1's rmse: 0.546182\n",
      "[3900]\ttraining's rmse: 0.513892\tvalid_1's rmse: 0.545421\n",
      "[3950]\ttraining's rmse: 0.512671\tvalid_1's rmse: 0.544553\n",
      "[4000]\ttraining's rmse: 0.511619\tvalid_1's rmse: 0.543853\n",
      "[4050]\ttraining's rmse: 0.510581\tvalid_1's rmse: 0.543161\n",
      "[4100]\ttraining's rmse: 0.509498\tvalid_1's rmse: 0.542434\n",
      "[4150]\ttraining's rmse: 0.508458\tvalid_1's rmse: 0.541788\n",
      "[4200]\ttraining's rmse: 0.50753\tvalid_1's rmse: 0.541201\n",
      "[4250]\ttraining's rmse: 0.506502\tvalid_1's rmse: 0.540503\n",
      "[4300]\ttraining's rmse: 0.505694\tvalid_1's rmse: 0.540039\n",
      "[4350]\ttraining's rmse: 0.504611\tvalid_1's rmse: 0.539353\n",
      "[4400]\ttraining's rmse: 0.50378\tvalid_1's rmse: 0.53888\n",
      "[4450]\ttraining's rmse: 0.502758\tvalid_1's rmse: 0.538211\n",
      "[4500]\ttraining's rmse: 0.501902\tvalid_1's rmse: 0.537683\n",
      "[4550]\ttraining's rmse: 0.500894\tvalid_1's rmse: 0.537034\n",
      "[4600]\ttraining's rmse: 0.500028\tvalid_1's rmse: 0.53651\n",
      "[4650]\ttraining's rmse: 0.49908\tvalid_1's rmse: 0.535888\n",
      "[4700]\ttraining's rmse: 0.498188\tvalid_1's rmse: 0.535362\n",
      "[4750]\ttraining's rmse: 0.497201\tvalid_1's rmse: 0.534753\n",
      "[4800]\ttraining's rmse: 0.496293\tvalid_1's rmse: 0.534166\n",
      "[4850]\ttraining's rmse: 0.495401\tvalid_1's rmse: 0.53362\n",
      "[4900]\ttraining's rmse: 0.494467\tvalid_1's rmse: 0.53302\n",
      "[4950]\ttraining's rmse: 0.493655\tvalid_1's rmse: 0.532525\n",
      "[5000]\ttraining's rmse: 0.492827\tvalid_1's rmse: 0.532044\n",
      "[5050]\ttraining's rmse: 0.4919\tvalid_1's rmse: 0.531472\n",
      "[5100]\ttraining's rmse: 0.490841\tvalid_1's rmse: 0.530758\n",
      "[5150]\ttraining's rmse: 0.489872\tvalid_1's rmse: 0.530142\n",
      "[5200]\ttraining's rmse: 0.488971\tvalid_1's rmse: 0.529571\n",
      "[5250]\ttraining's rmse: 0.488305\tvalid_1's rmse: 0.529215\n",
      "[5300]\ttraining's rmse: 0.487508\tvalid_1's rmse: 0.528767\n",
      "[5350]\ttraining's rmse: 0.486765\tvalid_1's rmse: 0.528351\n",
      "[5400]\ttraining's rmse: 0.485876\tvalid_1's rmse: 0.527793\n",
      "[5450]\ttraining's rmse: 0.48499\tvalid_1's rmse: 0.527281\n",
      "[5500]\ttraining's rmse: 0.484192\tvalid_1's rmse: 0.526779\n",
      "[5550]\ttraining's rmse: 0.483309\tvalid_1's rmse: 0.526228\n",
      "[5600]\ttraining's rmse: 0.482492\tvalid_1's rmse: 0.525758\n",
      "[5650]\ttraining's rmse: 0.481699\tvalid_1's rmse: 0.525248\n",
      "[5700]\ttraining's rmse: 0.480908\tvalid_1's rmse: 0.524802\n",
      "[5750]\ttraining's rmse: 0.480155\tvalid_1's rmse: 0.524362\n",
      "[5800]\ttraining's rmse: 0.47936\tvalid_1's rmse: 0.523903\n",
      "[5850]\ttraining's rmse: 0.47868\tvalid_1's rmse: 0.523569\n",
      "[5900]\ttraining's rmse: 0.478024\tvalid_1's rmse: 0.523215\n",
      "[5950]\ttraining's rmse: 0.477363\tvalid_1's rmse: 0.52287\n",
      "[6000]\ttraining's rmse: 0.476644\tvalid_1's rmse: 0.522448\n",
      "[6050]\ttraining's rmse: 0.475943\tvalid_1's rmse: 0.522018\n",
      "[6100]\ttraining's rmse: 0.475279\tvalid_1's rmse: 0.521656\n",
      "[6150]\ttraining's rmse: 0.47468\tvalid_1's rmse: 0.521362\n",
      "[6200]\ttraining's rmse: 0.473972\tvalid_1's rmse: 0.520988\n",
      "[6250]\ttraining's rmse: 0.473312\tvalid_1's rmse: 0.520651\n",
      "[6300]\ttraining's rmse: 0.472652\tvalid_1's rmse: 0.520309\n",
      "[6350]\ttraining's rmse: 0.471938\tvalid_1's rmse: 0.519945\n",
      "[6400]\ttraining's rmse: 0.471371\tvalid_1's rmse: 0.519675\n",
      "[6450]\ttraining's rmse: 0.470743\tvalid_1's rmse: 0.519358\n",
      "[6500]\ttraining's rmse: 0.470026\tvalid_1's rmse: 0.518962\n",
      "[6550]\ttraining's rmse: 0.469374\tvalid_1's rmse: 0.51867\n",
      "[6600]\ttraining's rmse: 0.468817\tvalid_1's rmse: 0.518418\n",
      "[6650]\ttraining's rmse: 0.468082\tvalid_1's rmse: 0.517996\n",
      "[6700]\ttraining's rmse: 0.467497\tvalid_1's rmse: 0.5177\n",
      "[6750]\ttraining's rmse: 0.466939\tvalid_1's rmse: 0.517471\n",
      "[6800]\ttraining's rmse: 0.466361\tvalid_1's rmse: 0.517192\n",
      "[6850]\ttraining's rmse: 0.465725\tvalid_1's rmse: 0.516861\n",
      "[6900]\ttraining's rmse: 0.46517\tvalid_1's rmse: 0.516597\n",
      "[6950]\ttraining's rmse: 0.464559\tvalid_1's rmse: 0.516283\n",
      "[7000]\ttraining's rmse: 0.463783\tvalid_1's rmse: 0.51582\n",
      "[7050]\ttraining's rmse: 0.463146\tvalid_1's rmse: 0.515457\n",
      "[7100]\ttraining's rmse: 0.462543\tvalid_1's rmse: 0.515175\n",
      "[7150]\ttraining's rmse: 0.462025\tvalid_1's rmse: 0.514952\n",
      "[7200]\ttraining's rmse: 0.461494\tvalid_1's rmse: 0.514727\n",
      "[7250]\ttraining's rmse: 0.460908\tvalid_1's rmse: 0.51445\n",
      "[7300]\ttraining's rmse: 0.460266\tvalid_1's rmse: 0.514092\n",
      "[7350]\ttraining's rmse: 0.459661\tvalid_1's rmse: 0.513816\n",
      "[7400]\ttraining's rmse: 0.459115\tvalid_1's rmse: 0.513562\n",
      "[7450]\ttraining's rmse: 0.458599\tvalid_1's rmse: 0.513335\n",
      "[7500]\ttraining's rmse: 0.458114\tvalid_1's rmse: 0.513136\n",
      "[7550]\ttraining's rmse: 0.457565\tvalid_1's rmse: 0.512876\n",
      "[7600]\ttraining's rmse: 0.456948\tvalid_1's rmse: 0.512524\n",
      "[7650]\ttraining's rmse: 0.456355\tvalid_1's rmse: 0.512231\n",
      "[7700]\ttraining's rmse: 0.455846\tvalid_1's rmse: 0.511975\n",
      "[7750]\ttraining's rmse: 0.455338\tvalid_1's rmse: 0.511734\n",
      "[7800]\ttraining's rmse: 0.454743\tvalid_1's rmse: 0.511439\n",
      "[7850]\ttraining's rmse: 0.454152\tvalid_1's rmse: 0.511145\n",
      "[7900]\ttraining's rmse: 0.453603\tvalid_1's rmse: 0.510867\n",
      "[7950]\ttraining's rmse: 0.453082\tvalid_1's rmse: 0.510636\n",
      "[8000]\ttraining's rmse: 0.452576\tvalid_1's rmse: 0.510393\n",
      "[8050]\ttraining's rmse: 0.452056\tvalid_1's rmse: 0.510131\n",
      "[8100]\ttraining's rmse: 0.451463\tvalid_1's rmse: 0.509822\n",
      "[8150]\ttraining's rmse: 0.450937\tvalid_1's rmse: 0.509593\n",
      "[8200]\ttraining's rmse: 0.450391\tvalid_1's rmse: 0.509333\n",
      "[8250]\ttraining's rmse: 0.449849\tvalid_1's rmse: 0.509086\n",
      "[8300]\ttraining's rmse: 0.44928\tvalid_1's rmse: 0.508817\n",
      "[8350]\ttraining's rmse: 0.448818\tvalid_1's rmse: 0.508626\n",
      "[8400]\ttraining's rmse: 0.448369\tvalid_1's rmse: 0.508422\n",
      "[8450]\ttraining's rmse: 0.447822\tvalid_1's rmse: 0.508159\n",
      "[8500]\ttraining's rmse: 0.447307\tvalid_1's rmse: 0.507916\n",
      "Did not meet early stopping. Best iteration is:\n",
      "[8500]\ttraining's rmse: 0.447307\tvalid_1's rmse: 0.507916\n"
     ]
    }
   ],
   "source": [
    "lgb_train = lgb.Dataset(X_train, y_train)\n",
    "lgb_eval = lgb.Dataset(X_val, y_val)\n",
    "gbm = lgb.train(lgb_params,\n",
    "            lgb_train,\n",
    "            num_boost_round=5000,\n",
    "            valid_sets=(lgb_train, lgb_eval),\n",
    "            verbose_eval = 50\n",
    "           )"
   ]
  },
  {
   "cell_type": "markdown",
   "metadata": {},
   "source": [
    "# Predicting validation data"
   ]
  },
  {
   "cell_type": "code",
   "execution_count": 74,
   "metadata": {},
   "outputs": [],
   "source": [
    "y_pred = gbm.predict(X_val, num_iteration=gbm.best_iteration)"
   ]
  },
  {
   "cell_type": "markdown",
   "metadata": {},
   "source": [
    "## Postprocessing"
   ]
  },
  {
   "cell_type": "code",
   "execution_count": 75,
   "metadata": {},
   "outputs": [],
   "source": [
    "fix_predictions(y_pred)"
   ]
  },
  {
   "cell_type": "markdown",
   "metadata": {},
   "source": [
    "## RMSLE "
   ]
  },
  {
   "cell_type": "code",
   "execution_count": 76,
   "metadata": {},
   "outputs": [
    {
     "name": "stdout",
     "output_type": "stream",
     "text": [
      "RMSLE:  0.1899043728451411\n"
     ]
    }
   ],
   "source": [
    "rmsle = np.sqrt(mean_squared_log_error(y_pred, (y_val)))\n",
    "print('RMSLE: ', rmsle)"
   ]
  },
  {
   "cell_type": "markdown",
   "metadata": {},
   "source": [
    "## Saving the model"
   ]
  },
  {
   "cell_type": "code",
   "execution_count": 77,
   "metadata": {},
   "outputs": [
    {
     "data": {
      "text/plain": [
       "<lightgbm.basic.Booster at 0x7f26b2207550>"
      ]
     },
     "execution_count": 77,
     "metadata": {},
     "output_type": "execute_result"
    }
   ],
   "source": [
    "gbm.save_model('lgb_classifier_{}_{}.txt'.format(datetime.datetime.now().strftime(\"%d-%m-%Y\"), rmsle), num_iteration=gbm.best_iteration)"
   ]
  },
  {
   "cell_type": "code",
   "execution_count": 78,
   "metadata": {},
   "outputs": [
    {
     "data": {
      "image/png": "[encoded data removed]",
      "text/plain": [
       "<Figure size 720x360 with 1 Axes>"
      ]
     },
     "metadata": {
      "needs_background": "light"
     },
     "output_type": "display_data"
    }
   ],
   "source": [
    "feature_imp = pd.DataFrame(sorted(zip(gbm.feature_importance(), gbm.feature_name()),reverse = True), columns=['Value','Feature'])\n",
    "plt.figure(figsize=(10, 5))\n",
    "sns.barplot(x=\"Value\", y=\"Feature\", data=feature_imp.sort_values(by=\"Value\", ascending=False))\n",
    "plt.title('LightGBM Features')\n",
    "plt.tight_layout()\n",
    "plt.show()"
   ]
  },
  {
   "cell_type": "markdown",
   "metadata": {},
   "source": [
    "## Test preparation"
   ]
  },
  {
   "cell_type": "code",
   "execution_count": 114,
   "metadata": {},
   "outputs": [
    {
     "data": {
      "text/html": [
       "<div>\n",
       "<style scoped>\n",
       "    .dataframe tbody tr th:only-of-type {\n",
       "        vertical-align: middle;\n",
       "    }\n",
       "\n",
       "    .dataframe tbody tr th {\n",
       "        vertical-align: top;\n",
       "    }\n",
       "\n",
       "    .dataframe thead th {\n",
       "        text-align: right;\n",
       "    }\n",
       "</style>\n",
       "<table border=\"1\" class=\"dataframe\">\n",
       "  <thead>\n",
       "    <tr style=\"text-align: right;\">\n",
       "      <th></th>\n",
       "      <th>row_id</th>\n",
       "      <th>building_id</th>\n",
       "      <th>meter</th>\n",
       "      <th>timestamp</th>\n",
       "      <th>site_id</th>\n",
       "      <th>primary_use</th>\n",
       "      <th>square_feet</th>\n",
       "      <th>year_built</th>\n",
       "      <th>floor_count</th>\n",
       "      <th>air_temperature</th>\n",
       "      <th>cloud_coverage</th>\n",
       "      <th>dew_temperature</th>\n",
       "      <th>precip_depth_1_hr</th>\n",
       "      <th>sea_level_pressure</th>\n",
       "      <th>wind_direction</th>\n",
       "      <th>wind_speed</th>\n",
       "    </tr>\n",
       "  </thead>\n",
       "  <tbody>\n",
       "    <tr>\n",
       "      <th>0</th>\n",
       "      <td>0</td>\n",
       "      <td>0</td>\n",
       "      <td>0</td>\n",
       "      <td>2017-01-01 00:00:00</td>\n",
       "      <td>0</td>\n",
       "      <td>Education</td>\n",
       "      <td>7432</td>\n",
       "      <td>2008.0</td>\n",
       "      <td>NaN</td>\n",
       "      <td>17.796875</td>\n",
       "      <td>4.0</td>\n",
       "      <td>11.703125</td>\n",
       "      <td>NaN</td>\n",
       "      <td>1021.5</td>\n",
       "      <td>100.0</td>\n",
       "      <td>3.599609</td>\n",
       "    </tr>\n",
       "    <tr>\n",
       "      <th>1</th>\n",
       "      <td>1</td>\n",
       "      <td>1</td>\n",
       "      <td>0</td>\n",
       "      <td>2017-01-01 00:00:00</td>\n",
       "      <td>0</td>\n",
       "      <td>Education</td>\n",
       "      <td>2720</td>\n",
       "      <td>2004.0</td>\n",
       "      <td>NaN</td>\n",
       "      <td>17.796875</td>\n",
       "      <td>4.0</td>\n",
       "      <td>11.703125</td>\n",
       "      <td>NaN</td>\n",
       "      <td>1021.5</td>\n",
       "      <td>100.0</td>\n",
       "      <td>3.599609</td>\n",
       "    </tr>\n",
       "    <tr>\n",
       "      <th>2</th>\n",
       "      <td>2</td>\n",
       "      <td>2</td>\n",
       "      <td>0</td>\n",
       "      <td>2017-01-01 00:00:00</td>\n",
       "      <td>0</td>\n",
       "      <td>Education</td>\n",
       "      <td>5376</td>\n",
       "      <td>1991.0</td>\n",
       "      <td>NaN</td>\n",
       "      <td>17.796875</td>\n",
       "      <td>4.0</td>\n",
       "      <td>11.703125</td>\n",
       "      <td>NaN</td>\n",
       "      <td>1021.5</td>\n",
       "      <td>100.0</td>\n",
       "      <td>3.599609</td>\n",
       "    </tr>\n",
       "    <tr>\n",
       "      <th>3</th>\n",
       "      <td>3</td>\n",
       "      <td>3</td>\n",
       "      <td>0</td>\n",
       "      <td>2017-01-01 00:00:00</td>\n",
       "      <td>0</td>\n",
       "      <td>Education</td>\n",
       "      <td>23685</td>\n",
       "      <td>2002.0</td>\n",
       "      <td>NaN</td>\n",
       "      <td>17.796875</td>\n",
       "      <td>4.0</td>\n",
       "      <td>11.703125</td>\n",
       "      <td>NaN</td>\n",
       "      <td>1021.5</td>\n",
       "      <td>100.0</td>\n",
       "      <td>3.599609</td>\n",
       "    </tr>\n",
       "    <tr>\n",
       "      <th>4</th>\n",
       "      <td>4</td>\n",
       "      <td>4</td>\n",
       "      <td>0</td>\n",
       "      <td>2017-01-01 00:00:00</td>\n",
       "      <td>0</td>\n",
       "      <td>Education</td>\n",
       "      <td>116607</td>\n",
       "      <td>1975.0</td>\n",
       "      <td>NaN</td>\n",
       "      <td>17.796875</td>\n",
       "      <td>4.0</td>\n",
       "      <td>11.703125</td>\n",
       "      <td>NaN</td>\n",
       "      <td>1021.5</td>\n",
       "      <td>100.0</td>\n",
       "      <td>3.599609</td>\n",
       "    </tr>\n",
       "  </tbody>\n",
       "</table>\n",
       "</div>"
      ],
      "text/plain": [
       "   row_id  building_id  meter            timestamp  site_id primary_use  \\\n",
       "0       0            0      0  2017-01-01 00:00:00        0   Education   \n",
       "1       1            1      0  2017-01-01 00:00:00        0   Education   \n",
       "2       2            2      0  2017-01-01 00:00:00        0   Education   \n",
       "3       3            3      0  2017-01-01 00:00:00        0   Education   \n",
       "4       4            4      0  2017-01-01 00:00:00        0   Education   \n",
       "\n",
       "   square_feet  year_built  floor_count  air_temperature  cloud_coverage  \\\n",
       "0         7432      2008.0          NaN        17.796875             4.0   \n",
       "1         2720      2004.0          NaN        17.796875             4.0   \n",
       "2         5376      1991.0          NaN        17.796875             4.0   \n",
       "3        23685      2002.0          NaN        17.796875             4.0   \n",
       "4       116607      1975.0          NaN        17.796875             4.0   \n",
       "\n",
       "   dew_temperature  precip_depth_1_hr  sea_level_pressure  wind_direction  \\\n",
       "0        11.703125                NaN              1021.5           100.0   \n",
       "1        11.703125                NaN              1021.5           100.0   \n",
       "2        11.703125                NaN              1021.5           100.0   \n",
       "3        11.703125                NaN              1021.5           100.0   \n",
       "4        11.703125                NaN              1021.5           100.0   \n",
       "\n",
       "   wind_speed  \n",
       "0    3.599609  \n",
       "1    3.599609  \n",
       "2    3.599609  \n",
       "3    3.599609  \n",
       "4    3.599609  "
      ]
     },
     "execution_count": 114,
     "metadata": {},
     "output_type": "execute_result"
    }
   ],
   "source": [
    "test.head()"
   ]
  },
  {
   "cell_type": "code",
   "execution_count": 115,
   "metadata": {},
   "outputs": [],
   "source": [
    "clean_timestamps(test)\n",
    "test = drop_cols(test)\n",
    "test = test.drop('row_id', axis = 1)\n",
    "test['primary_use'] = LabelEncoder().fit_transform(test['primary_use'])"
   ]
  },
  {
   "cell_type": "code",
   "execution_count": 83,
   "metadata": {},
   "outputs": [],
   "source": [
    "submission = pd.read_csv('ashrae-energy-prediction/sample_submission.csv')"
   ]
  },
  {
   "cell_type": "code",
   "execution_count": 84,
   "metadata": {},
   "outputs": [
    {
     "data": {
      "text/plain": [
       "4"
      ]
     },
     "execution_count": 84,
     "metadata": {},
     "output_type": "execute_result"
    }
   ],
   "source": [
    "test_1 = test[:len(test)//3]\n",
    "y_pred_1 = gbm.predict(test_1, num_iteration=gbm.best_iteration)\n",
    "\n",
    "del test_1\n",
    "\n",
    "gc.collect()"
   ]
  },
  {
   "cell_type": "code",
   "execution_count": 85,
   "metadata": {},
   "outputs": [
    {
     "data": {
      "text/plain": [
       "26"
      ]
     },
     "execution_count": 85,
     "metadata": {},
     "output_type": "execute_result"
    }
   ],
   "source": [
    "test_2 = test[len(test)//3:(len(test)*2)//3]\n",
    "y_pred_2 = gbm.predict(test_2, num_iteration=gbm.best_iteration)\n",
    "\n",
    "del test_2\n",
    "\n",
    "gc.collect()"
   ]
  },
  {
   "cell_type": "code",
   "execution_count": 86,
   "metadata": {},
   "outputs": [
    {
     "data": {
      "text/plain": [
       "26"
      ]
     },
     "execution_count": 86,
     "metadata": {},
     "output_type": "execute_result"
    }
   ],
   "source": [
    "test_3 = test[(len(test)*2)//3:]\n",
    "y_pred_3 = gbm.predict(test_3, num_iteration=gbm.best_iteration)\n",
    "\n",
    "del test_3\n",
    "\n",
    "gc.collect()"
   ]
  },
  {
   "cell_type": "code",
   "execution_count": 87,
   "metadata": {},
   "outputs": [
    {
     "data": {
      "text/plain": [
       "22"
      ]
     },
     "execution_count": 87,
     "metadata": {},
     "output_type": "execute_result"
    }
   ],
   "source": [
    "y_pred = np.concatenate([y_pred_1, y_pred_2, y_pred_3], axis=0)\n",
    "\n",
    "del y_pred_1\n",
    "del y_pred_2\n",
    "del y_pred_3\n",
    "\n",
    "gc.collect()"
   ]
  },
  {
   "cell_type": "code",
   "execution_count": null,
   "metadata": {},
   "outputs": [
    {
     "data": {
      "text/html": [
       "<div>\n",
       "<style scoped>\n",
       "    .dataframe tbody tr th:only-of-type {\n",
       "        vertical-align: middle;\n",
       "    }\n",
       "\n",
       "    .dataframe tbody tr th {\n",
       "        vertical-align: top;\n",
       "    }\n",
       "\n",
       "    .dataframe thead th {\n",
       "        text-align: right;\n",
       "    }\n",
       "</style>\n",
       "<table border=\"1\" class=\"dataframe\">\n",
       "  <thead>\n",
       "    <tr style=\"text-align: right;\">\n",
       "      <th></th>\n",
       "      <th>row_id</th>\n",
       "      <th>meter_reading</th>\n",
       "    </tr>\n",
       "  </thead>\n",
       "  <tbody>\n",
       "    <tr>\n",
       "      <th>0</th>\n",
       "      <td>0</td>\n",
       "      <td>0.000000</td>\n",
       "    </tr>\n",
       "    <tr>\n",
       "      <th>1</th>\n",
       "      <td>1</td>\n",
       "      <td>0.390544</td>\n",
       "    </tr>\n",
       "    <tr>\n",
       "      <th>2</th>\n",
       "      <td>2</td>\n",
       "      <td>0.117277</td>\n",
       "    </tr>\n",
       "    <tr>\n",
       "      <th>3</th>\n",
       "      <td>3</td>\n",
       "      <td>0.110357</td>\n",
       "    </tr>\n",
       "    <tr>\n",
       "      <th>4</th>\n",
       "      <td>4</td>\n",
       "      <td>0.328998</td>\n",
       "    </tr>\n",
       "    <tr>\n",
       "      <th>...</th>\n",
       "      <td>...</td>\n",
       "      <td>...</td>\n",
       "    </tr>\n",
       "    <tr>\n",
       "      <th>41697595</th>\n",
       "      <td>41697595</td>\n",
       "      <td>5.670367</td>\n",
       "    </tr>\n",
       "    <tr>\n",
       "      <th>41697596</th>\n",
       "      <td>41697596</td>\n",
       "      <td>4.319066</td>\n",
       "    </tr>\n",
       "    <tr>\n",
       "      <th>41697597</th>\n",
       "      <td>41697597</td>\n",
       "      <td>3.732885</td>\n",
       "    </tr>\n",
       "    <tr>\n",
       "      <th>41697598</th>\n",
       "      <td>41697598</td>\n",
       "      <td>96.122090</td>\n",
       "    </tr>\n",
       "    <tr>\n",
       "      <th>41697599</th>\n",
       "      <td>41697599</td>\n",
       "      <td>2.634800</td>\n",
       "    </tr>\n",
       "  </tbody>\n",
       "</table>\n",
       "<p>41697600 rows × 2 columns</p>\n",
       "</div>"
      ],
      "text/plain": [
       "            row_id  meter_reading\n",
       "0                0       0.000000\n",
       "1                1       0.390544\n",
       "2                2       0.117277\n",
       "3                3       0.110357\n",
       "4                4       0.328998\n",
       "...            ...            ...\n",
       "41697595  41697595       5.670367\n",
       "41697596  41697596       4.319066\n",
       "41697597  41697597       3.732885\n",
       "41697598  41697598      96.122090\n",
       "41697599  41697599       2.634800\n",
       "\n",
       "[41697600 rows x 2 columns]"
      ]
     },
     "execution_count": 88,
     "metadata": {},
     "output_type": "execute_result"
    }
   ],
   "source": [
    "y_pred = np.expm1(y_pred)\n",
    "fix_predictions(y_pred)\n",
    "submission['meter_reading'] = y_pred\n",
    "submission"
   ]
  },
  {
   "cell_type": "code",
   "execution_count": 93,
   "metadata": {},
   "outputs": [
    {
     "data": {
      "text/html": [
       "<div>\n",
       "<style scoped>\n",
       "    .dataframe tbody tr th:only-of-type {\n",
       "        vertical-align: middle;\n",
       "    }\n",
       "\n",
       "    .dataframe tbody tr th {\n",
       "        vertical-align: top;\n",
       "    }\n",
       "\n",
       "    .dataframe thead th {\n",
       "        text-align: right;\n",
       "    }\n",
       "</style>\n",
       "<table border=\"1\" class=\"dataframe\">\n",
       "  <thead>\n",
       "    <tr style=\"text-align: right;\">\n",
       "      <th></th>\n",
       "      <th>row_id</th>\n",
       "      <th>meter_reading</th>\n",
       "    </tr>\n",
       "  </thead>\n",
       "  <tbody>\n",
       "    <tr>\n",
       "      <th>0</th>\n",
       "      <td>0</td>\n",
       "      <td>0.000000</td>\n",
       "    </tr>\n",
       "    <tr>\n",
       "      <th>1</th>\n",
       "      <td>1</td>\n",
       "      <td>0.390544</td>\n",
       "    </tr>\n",
       "    <tr>\n",
       "      <th>2</th>\n",
       "      <td>2</td>\n",
       "      <td>0.117277</td>\n",
       "    </tr>\n",
       "    <tr>\n",
       "      <th>3</th>\n",
       "      <td>3</td>\n",
       "      <td>0.110357</td>\n",
       "    </tr>\n",
       "    <tr>\n",
       "      <th>4</th>\n",
       "      <td>4</td>\n",
       "      <td>0.328998</td>\n",
       "    </tr>\n",
       "    <tr>\n",
       "      <th>...</th>\n",
       "      <td>...</td>\n",
       "      <td>...</td>\n",
       "    </tr>\n",
       "    <tr>\n",
       "      <th>41697595</th>\n",
       "      <td>41697595</td>\n",
       "      <td>5.670367</td>\n",
       "    </tr>\n",
       "    <tr>\n",
       "      <th>41697596</th>\n",
       "      <td>41697596</td>\n",
       "      <td>4.319066</td>\n",
       "    </tr>\n",
       "    <tr>\n",
       "      <th>41697597</th>\n",
       "      <td>41697597</td>\n",
       "      <td>3.732885</td>\n",
       "    </tr>\n",
       "    <tr>\n",
       "      <th>41697598</th>\n",
       "      <td>41697598</td>\n",
       "      <td>96.122090</td>\n",
       "    </tr>\n",
       "    <tr>\n",
       "      <th>41697599</th>\n",
       "      <td>41697599</td>\n",
       "      <td>2.634800</td>\n",
       "    </tr>\n",
       "  </tbody>\n",
       "</table>\n",
       "<p>41697600 rows × 2 columns</p>\n",
       "</div>"
      ],
      "text/plain": [
       "            row_id  meter_reading\n",
       "0                0       0.000000\n",
       "1                1       0.390544\n",
       "2                2       0.117277\n",
       "3                3       0.110357\n",
       "4                4       0.328998\n",
       "...            ...            ...\n",
       "41697595  41697595       5.670367\n",
       "41697596  41697596       4.319066\n",
       "41697597  41697597       3.732885\n",
       "41697598  41697598      96.122090\n",
       "41697599  41697599       2.634800\n",
       "\n",
       "[41697600 rows x 2 columns]"
      ]
     },
     "execution_count": 93,
     "metadata": {},
     "output_type": "execute_result"
    }
   ],
   "source": [
    "submission"
   ]
  },
  {
   "cell_type": "markdown",
   "metadata": {},
   "source": [
    "## Submission"
   ]
  },
  {
   "cell_type": "code",
   "execution_count": null,
   "metadata": {},
   "outputs": [],
   "source": [
    "# my_submission = pd.DataFrame({'row_id': test_x.row_id, 'meter_reading': y_pred})\n",
    "# my_submission.to_csv('submission3.csv', index=False)"
   ]
  },
  {
   "cell_type": "code",
   "execution_count": 91,
   "metadata": {},
   "outputs": [],
   "source": [
    "submission.to_csv('submission.csv', index=False)"
   ]
  },
  {
   "cell_type": "code",
   "execution_count": 92,
   "metadata": {},
   "outputs": [
    {
     "name": "stdout",
     "output_type": "stream",
     "text": [
      "submission.csv\n"
     ]
    }
   ],
   "source": [
    "!tar cvfz lgb.tar.gz submission.csv"
   ]
  },
  {
   "cell_type": "code",
   "execution_count": null,
   "metadata": {},
   "outputs": [],
   "source": []
  }
 ],
 "metadata": {
  "environment": {
   "name": "tf2-gpu.2-3.m65",
   "type": "gcloud",
   "uri": "gcr.io/deeplearning-platform-release/tf2-gpu.2-3:m65"
  },
  "kernelspec": {
   "display_name": "Python 3",
   "language": "python",
   "name": "python3"
  },
  "language_info": {
   "codemirror_mode": {
    "name": "ipython",
    "version": 3
   },
   "file_extension": ".py",
   "mimetype": "text/x-python",
   "name": "python",
   "nbconvert_exporter": "python",
   "pygments_lexer": "ipython3",
   "version": "3.7.10"
  }
 },
 "nbformat": 4,
 "nbformat_minor": 4
}
