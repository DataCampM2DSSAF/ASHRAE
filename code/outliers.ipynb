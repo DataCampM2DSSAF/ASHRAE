{
 "cells": [
  {
   "cell_type": "code",
   "execution_count": 6,
   "metadata": {
    "id": "FTorXV0evkAS"
   },
   "outputs": [],
   "source": [
    "#iort library\n",
    "import numpy as np \n",
    "import pandas as pd \n",
    "import matplotlib.pylab as plt\n",
    "import seaborn as sns"
   ]
  },
  {
   "cell_type": "code",
   "execution_count": 7,
   "metadata": {
    "id": "w0UoHRkTweN4"
   },
   "outputs": [],
   "source": [
    "train = pd.read_csv('ashrae-energy-prediction/train.csv')\n",
    "test = pd.read_csv('ashrae-energy-prediction/test.csv')\n",
    "weather_train= pd.read_csv('ashrae-energy-prediction/weather_train.csv')\n",
    "weather_test = pd.read_csv('ashrae-energy-prediction/weather_test.csv')\n",
    "meta = pd.read_csv('ashrae-energy-prediction/building_metadata.csv')"
   ]
  },
  {
   "cell_type": "code",
   "execution_count": 8,
   "metadata": {
    "colab": {
     "base_uri": "https://localhost:8080/"
    },
    "id": "RK_b-WCxvkAl",
    "outputId": "b7664bce-0e86-4fb5-efeb-82815a5ac438"
   },
   "outputs": [
    {
     "name": "stdout",
     "output_type": "stream",
     "text": [
      "train shape is (20216100, 4)\n",
      "test shape is (41697600, 4)\n",
      "weather_train shape is (139773, 9)\n",
      "weather_test shape is (277243, 9)\n",
      "metadata shape is (1449, 6)\n",
      "metadata shape is (1449, 6)\n"
     ]
    }
   ],
   "source": [
    "print('train shape is {}'.format(train.shape))\n",
    "print('test shape is {}'.format(test.shape))\n",
    "print('weather_train shape is {}'.format(weather_train.shape))\n",
    "print('weather_test shape is {}'.format(weather_test.shape))\n",
    "print('metadata shape is {}'.format(meta.shape))\n",
    "print('metadata shape is {}'.format(meta.shape))"
   ]
  },
  {
   "cell_type": "code",
   "execution_count": 9,
   "metadata": {},
   "outputs": [],
   "source": [
    "train1=train[train['building_id'] <= 50]"
   ]
  },
  {
   "cell_type": "code",
   "execution_count": 10,
   "metadata": {},
   "outputs": [],
   "source": [
    "train1.to_csv('train.csv', index=False)"
   ]
  },
  {
   "cell_type": "markdown",
   "metadata": {
    "id": "aIUNakIuF_LA"
   },
   "source": [
    "Reduce memory "
   ]
  },
  {
   "cell_type": "code",
   "execution_count": 11,
   "metadata": {
    "id": "pyl4B7PdvkAm"
   },
   "outputs": [],
   "source": [
    "#Function to reduce memory size\n",
    "def reduce_mem_usage(df, verbose=True):\n",
    "    numerics = ['int16', 'int32', 'int64', 'float16', 'float32', 'float64']\n",
    "    start_mem = df.memory_usage().sum() / 1024**2    \n",
    "    for col in df.columns:\n",
    "        col_type = df[col].dtypes\n",
    "        if col_type in numerics:\n",
    "            c_min = df[col].min()\n",
    "            c_max = df[col].max()\n",
    "            if str(col_type)[:3] == 'int':\n",
    "                if c_min > np.iinfo(np.int8).min and c_max < np.iinfo(np.int8).max:\n",
    "                    df[col] = df[col].astype(np.int8)\n",
    "                elif c_min > np.iinfo(np.int16).min and c_max < np.iinfo(np.int16).max:\n",
    "                    df[col] = df[col].astype(np.int16)\n",
    "                elif c_min > np.iinfo(np.int32).min and c_max < np.iinfo(np.int32).max:\n",
    "                    df[col] = df[col].astype(np.int32)\n",
    "                elif c_min > np.iinfo(np.int64).min and c_max < np.iinfo(np.int64).max:\n",
    "                    df[col] = df[col].astype(np.int64)  \n",
    "            else:\n",
    "                if c_min > np.finfo(np.float16).min and c_max < np.finfo(np.float16).max:\n",
    "                    df[col] = df[col].astype(np.float16)\n",
    "                elif c_min > np.finfo(np.float32).min and c_max < np.finfo(np.float32).max:\n",
    "                    df[col] = df[col].astype(np.float32)\n",
    "                else:\n",
    "                    df[col] = df[col].astype(np.float64)    \n",
    "    end_mem = df.memory_usage().sum() / 1024**2\n",
    "    if verbose: print('Mem. usage decreased to {:5.2f} Mb ({:.1f}% reduction)'.format(end_mem, 100 * (start_mem - end_mem) / start_mem))\n",
    "    return df"
   ]
  },
  {
   "cell_type": "code",
   "execution_count": 12,
   "metadata": {
    "colab": {
     "base_uri": "https://localhost:8080/"
    },
    "id": "szUQnwW4vkAn",
    "outputId": "5a468521-dc35-44e6-a2d6-305032ba4419"
   },
   "outputs": [
    {
     "name": "stdout",
     "output_type": "stream",
     "text": [
      "Mem. usage decreased to 289.19 Mb (53.1% reduction)\n",
      "Mem. usage decreased to 596.49 Mb (53.1% reduction)\n",
      "Mem. usage decreased to  3.07 Mb (68.1% reduction)\n",
      "Mem. usage decreased to  6.08 Mb (68.1% reduction)\n",
      "Mem. usage decreased to  0.03 Mb (60.3% reduction)\n"
     ]
    }
   ],
   "source": [
    "train = reduce_mem_usage(train)\n",
    "test = reduce_mem_usage(test)\n",
    "weather_train = reduce_mem_usage(weather_train)\n",
    "weather_test = reduce_mem_usage(weather_test)\n",
    "meta= reduce_mem_usage(meta)"
   ]
  },
  {
   "cell_type": "code",
   "execution_count": 27,
   "metadata": {},
   "outputs": [
    {
     "data": {
      "text/plain": [
       "array([  0,   1,   2, ..., 591, 783, 403], dtype=int16)"
      ]
     },
     "execution_count": 27,
     "metadata": {},
     "output_type": "execute_result"
    }
   ],
   "source": [
    "b_id_list=train.building_id.unique()\n",
    "b_id_list"
   ]
  },
  {
   "cell_type": "code",
   "execution_count": 25,
   "metadata": {},
   "outputs": [
    {
     "data": {
      "text/plain": [
       "array([0, 3, 1, 2], dtype=int8)"
      ]
     },
     "execution_count": 25,
     "metadata": {},
     "output_type": "execute_result"
    }
   ],
   "source": [
    "train.meter.unique()"
   ]
  },
  {
   "cell_type": "markdown",
   "metadata": {
    "id": "PNhBaP8GF_LG"
   },
   "source": [
    "merge data"
   ]
  },
  {
   "cell_type": "code",
   "execution_count": 14,
   "metadata": {
    "id": "OyVhDYKh-n-e"
   },
   "outputs": [],
   "source": [
    "#merge data \n",
    "train = train.merge(meta, on='building_id', how='left')\n",
    "train = train.merge(weather_train, on=['site_id', 'timestamp'], how='left')\n",
    "test =test.merge(meta, on='building_id', how='left')\n",
    "test =test.merge(weather_test, on=['site_id', 'timestamp'], how='left')"
   ]
  },
  {
   "cell_type": "code",
   "execution_count": 15,
   "metadata": {},
   "outputs": [],
   "source": [
    "b_id_list=train.building_id.unique()"
   ]
  },
  {
   "cell_type": "code",
   "execution_count": 24,
   "metadata": {},
   "outputs": [],
   "source": [
    "from ipywidgets import interact, widgets"
   ]
  },
  {
   "cell_type": "code",
   "execution_count": 22,
   "metadata": {},
   "outputs": [
    {
     "name": "stdout",
     "output_type": "stream",
     "text": [
      "Collecting plotly\n",
      "  Downloading plotly-4.14.3-py2.py3-none-any.whl (13.2 MB)\n",
      "\u001b[K     |████████████████████████████████| 13.2 MB 7.6 MB/s eta 0:00:01\n",
      "\u001b[?25hRequirement already satisfied: six in /opt/conda/lib/python3.7/site-packages (from plotly) (1.15.0)\n",
      "Requirement already satisfied: retrying>=1.3.3 in /opt/conda/lib/python3.7/site-packages (from plotly) (1.3.3)\n",
      "Installing collected packages: plotly\n",
      "Successfully installed plotly-4.14.3\n",
      "Note: you may need to restart the kernel to use updated packages.\n"
     ]
    }
   ],
   "source": [
    "pip install plotly"
   ]
  },
  {
   "cell_type": "code",
   "execution_count": 28,
   "metadata": {},
   "outputs": [
    {
     "data": {
      "application/vnd.jupyter.widget-view+json": {
       "model_id": "0aab50937f6b42a9b7a43e5b533f569a",
       "version_major": 2,
       "version_minor": 0
      },
      "text/plain": [
       "interactive(children=(Dropdown(description='n', options=(0, 1, 2, 3, 4, 5, 6, 7, 8, 9, 10, 11, 12, 13, 14, 15,…"
      ]
     },
     "metadata": {},
     "output_type": "display_data"
    }
   ],
   "source": [
    "import plotly.graph_objects as go\n",
    "from ipywidgets import interact, widgets\n",
    "import numpy as np\n",
    "\n",
    "\n",
    "@interact(n=b_id_list)\n",
    "def plott(n):\n",
    "  s=train[(train.building_id == n) & (train.meter ==0 )]\n",
    "  fig = go.Figure(data=go.Scatter(x=s['timestamp'], y=s['meter_reading']))\n",
    "  fig.show()"
   ]
  },
  {
   "cell_type": "code",
   "execution_count": 19,
   "metadata": {},
   "outputs": [
    {
     "data": {
      "application/vnd.jupyter.widget-view+json": {
       "model_id": "90ad01386cec4427b4fb408cb54d2816",
       "version_major": 2,
       "version_minor": 0
      },
      "text/plain": [
       "interactive(children=(Dropdown(description='n', options=(0, 1, 2, 3, 4, 5, 6, 7, 8, 9, 10, 11, 12, 13, 14, 15,…"
      ]
     },
     "metadata": {},
     "output_type": "display_data"
    }
   ],
   "source": [
    "import plotly.graph_objects as go\n",
    "from ipywidgets import interact, widgets\n",
    "import numpy as np\n",
    "\n",
    "\n",
    "@interact(n=b_id_list)\n",
    "def plott(n):\n",
    "  s=train[(train.building_id == n) & (train.meter ==1 )]\n",
    "  fig = go.Figure(data=go.Scatter(x=s['timestamp'], y=s['meter_reading']))\n",
    "  fig.show()"
   ]
  },
  {
   "cell_type": "code",
   "execution_count": 20,
   "metadata": {},
   "outputs": [
    {
     "data": {
      "application/vnd.jupyter.widget-view+json": {
       "model_id": "2177d4166cb74dcbae0f8f27e30604b8",
       "version_major": 2,
       "version_minor": 0
      },
      "text/plain": [
       "interactive(children=(Dropdown(description='n', options=(0, 1, 2, 3, 4, 5, 6, 7, 8, 9, 10, 11, 12, 13, 14, 15,…"
      ]
     },
     "metadata": {},
     "output_type": "display_data"
    }
   ],
   "source": [
    "import plotly.graph_objects as go\n",
    "from ipywidgets import interact, widgets\n",
    "import numpy as np\n",
    "\n",
    "\n",
    "@interact(n=b_id_list)\n",
    "def plott(n):\n",
    "  s=train[(train.building_id == n) & (train.meter ==2)]\n",
    "  fig = go.Figure(data=go.Scatter(x=s['timestamp'], y=s['meter_reading']))\n",
    "  fig.show()"
   ]
  },
  {
   "cell_type": "code",
   "execution_count": 22,
   "metadata": {},
   "outputs": [
    {
     "data": {
      "application/vnd.jupyter.widget-view+json": {
       "model_id": "dbfdedac79d14af785d37baca59e5972",
       "version_major": 2,
       "version_minor": 0
      },
      "text/plain": [
       "interactive(children=(Dropdown(description='n', options=(0, 1, 2, 3, 4, 5, 6, 7, 8, 9, 10, 11, 12, 13, 14, 15,…"
      ]
     },
     "metadata": {},
     "output_type": "display_data"
    }
   ],
   "source": [
    "import plotly.graph_objects as go\n",
    "from ipywidgets import interact, widgets\n",
    "import numpy as np\n",
    "\n",
    "\n",
    "@interact(n=b_id_list)\n",
    "def plott(n):\n",
    "  s=train[(train.building_id == n) & (train.meter ==3)]\n",
    "  fig = go.Figure(data=go.Scatter(x=s['timestamp'], y=s['meter_reading']))\n",
    "  fig.show()"
   ]
  },
  {
   "cell_type": "code",
   "execution_count": 30,
   "metadata": {},
   "outputs": [],
   "source": [
    "train = train.query('not (building_id <= 104 & meter == 0 & timestamp <= \"2016-05-21\")')\n",
    "train = train.query('not (building_id == 7 & meter == 1 & timestamp <= \"2016-11-29\" & timestamp >= \"2016-11-03\")')\n",
    "train = train.query('not (building_id == 954 & timestamp <= \"2016-08-09\")')\n",
    "train = train.query('not (building_id == 783 & meter == 2 & timestamp <= \"2016-12-10\")')\n",
    "train = train.query('not (building_id == 1250 & meter == 2 & timestamp <= \"2016-12-22\")')\n",
    "train = train.query('not (building_id == 1250 & meter == 0 & meter_reading == 0)')\n",
    "train = train.query('not (timestamp >= \"2016-09-27 23:00:00\" & timestamp <= \"2016-10-20 23:00:00\" & building_id <= 1280 & building_id >= 1275 & meter == 0 )')\n",
    "train = train.query('not (timestamp >= \"2016-09-27 23:00:00\" & timestamp <= \"2016-10-20 23:00:00\" & building_id <= 1300 & building_id >= 1294 & meter == 0 )')\n",
    "train = train.query('not (building_id == 1130 & meter == 1 & timestamp < \"2016-10-01\")') \n",
    "train = train.query('not (building_id == 1303 & meter == 2 & timestamp < \"2016-06-07\")') \n",
    "train = train.query('not (building_id == 1303 & meter == 0 & meter_reading < 400)')\n",
    "train = train.query('not (building_id == 1238 & meter == 0 & meter_reading < 1)') \n",
    "train = train.query('not (building_id == 1238 & meter == 2 & meter_reading < 1)') \n",
    "train = train.query('not (building_id == 1427 & meter == 2 & meter_reading < 1)') \n",
    "train = train.query('not (building_id == 1425 & meter == 2 & meter_reading < 1)') \n",
    "train = train.query('not (building_id == 1392 & meter == 2 & meter_reading < 100)') \n",
    "train = train.query('not (building_id == 1391 & meter == 2 & meter_reading < 10)')\n",
    "train = train.query('not (building_id == 1383 & meter == 2 & meter_reading < 10)')\n",
    "train = train.query('not (building_id == 1383 & meter == 0 & meter_reading < 10)')\n",
    "train = train.query('not (building_id == 1382 & meter == 2 & meter_reading < 10)')\n",
    "train = train.query('not (building_id == 1323 & meter == 0 & meter_reading < 1)') \n",
    "train = train.query('not (building_id == 1322 & meter == 0 & meter_reading < 1)') \n",
    "train = train.query('not (building_id == 1321 & meter == 0 & meter_reading < 1)') \n",
    "train = train.query('not (building_id == 1320 & meter == 0 & meter_reading < 1)') \n",
    "train = train.query('not (building_id == 1317 & meter == 0 & meter_reading < 1)') \n",
    "train = train.query('not (building_id == 1301 & meter == 0 & meter_reading < 1)') \n",
    "train = train.query('not (building_id == 1288 & meter == 0 & meter_reading < 1)') \n",
    "train = train.query('not (building_id == 1287 & meter == 2 & meter_reading < 1)') \n",
    "train = train.query('not (building_id == 1285 & meter == 0 & meter_reading < 1)') \n",
    "train = train.query('not (building_id == 1284 & meter == 2 & meter_reading < 1)') \n",
    "train = train.query('not (building_id == 1233 & meter == 0 & meter_reading < 1)') \n",
    "train = train.query('not (building_id == 1234 & meter == 0 & meter_reading < 1)') \n",
    "train = train.query('not (building_id == 1246 & meter == 0 & meter_reading < 1)')\n",
    "train = train.query('not (building_id == 1246 & meter == 1 & timestamp < \"2016-03-07\")')\n",
    "train = train.query('not (building_id == 1246 & meter == 3 & timestamp < \"2016-03-07\")')\n",
    "train = train.query('not (building_id == 1319 & meter == 0 & meter_reading < 1)')\n",
    "train = train.query('not (building_id == 1302  & timestamp > \"2016-09-28\" & timestamp < \"2016-10-21\")')\n",
    "train = train.query('not (timestamp >= \"2016-09-27 23:00:00\" & timestamp <= \"2016-10-20 23:00:00\" & building_id == 1300 & meter == 1 )')\n",
    "train = train.query('not (timestamp >= \"2016-09-27 23:00:00\" & timestamp <= \"2016-10-20 23:00:00\" & building_id == 1300 & meter == 2 )')\n",
    "train = train.query('not (timestamp >= \"2016-09-27 23:00:00\" & timestamp <= \"2016-10-20 23:00:00\" & building_id == 1299 & meter == 2 )')\n",
    "train = train.query('not (timestamp >= \"2016-09-27 23:00:00\" & timestamp <= \"2016-10-20 23:00:00\" & building_id == 1298 & meter == 2 )')\n",
    "train = train.query('not (timestamp >= \"2016-09-27 23:00:00\" & timestamp <= \"2016-10-20 23:00:00\" & building_id == 1297)')\n",
    "train = train.query('not (timestamp >= \"2016-09-27 23:00:00\" & timestamp <= \"2016-10-20 23:00:00\" & building_id == 1296)')\n",
    "train = train.query('not (timestamp >= \"2016-09-27 23:00:00\" & timestamp <= \"2016-10-20 23:00:00\" & building_id == 1295)')\n",
    "train = train.query('not (timestamp >= \"2016-09-27 23:00:00\" & timestamp <= \"2016-10-20 23:00:00\" & building_id == 1294)')\n",
    "train = train.query('not (timestamp >= \"2016-09-27 23:00:00\" & timestamp <= \"2016-10-20 23:00:00\" & building_id == 1293)')\n",
    "train = train.query('not (timestamp >= \"2016-09-27 23:00:00\" & timestamp <= \"2016-10-20 23:00:00\" & building_id == 1292)')\n",
    "train = train.query('not (timestamp >= \"2016-09-27 23:00:00\" & timestamp <= \"2016-10-20 23:00:00\" & building_id == 1291)')\n",
    "train = train.query('not (timestamp >= \"2016-07-06 23:00:00\" & timestamp <= \"2016-08-12 23:00:00\" & building_id == 1288 & meter == 1)')\n",
    "train = train.query('not (timestamp >= \"2016-09-27 23:00:00\" & timestamp <= \"2016-10-20 23:00:00\" & building_id == 1276 & meter == 3)')\n",
    "train = train.query('not (timestamp >= \"2016-09-27 23:00:00\" & timestamp <= \"2016-10-20 23:00:00\" & building_id == 1275 & meter == 3)')\n",
    "train = train.query('not (timestamp >= \"2016-09-27 23:00:00\" & timestamp <= \"2016-10-20 23:00:00\" & building_id == 1272)')\n",
    "train = train.query('not (timestamp >= \"2016-08-21 23:00:00\" & timestamp <= \"2016-10-20 23:00:00\" & building_id == 1264)')\n",
    "train = train.query('not (timestamp >= \"2016-11-09 23:00:00\" & timestamp <= \"2016-11-21 23:00:00\" & building_id == 1263 & meter == 1)')\n",
    "train = train.query('not (timestamp >= \"2016-11-09 23:00:00\" & timestamp <= \"2016-11-21 23:00:00\" & building_id == 1263 & meter == 2)')\n",
    "train = train.query('not (timestamp >= \"2016-08-20 23:00:00\" & timestamp <= \"2016-09-05 23:00:00\" & building_id == 1252 & meter == 3)')\n",
    "train = train.query('not (timestamp >= \"2016-09-27 23:00:00\" & timestamp <= \"2016-10-20 23:00:00\" & building_id == 1223)')\n",
    "train = train.query('not (timestamp >= \"2016-09-27 23:00:00\" & timestamp <= \"2016-10-20 23:00:00\" & building_id == 1225)')\n",
    "train = train.query('not (timestamp >= \"2016-09-27 23:00:00\" & timestamp <= \"2016-10-20 23:00:00\" & building_id == 1226)')\n",
    "train = train.query('not (timestamp >= \"2016-06-22 23:00:00\" & timestamp <= \"2016-08-31 23:00:00\" & building_id == 1232 & (meter == 1 or meter == 3))')\n",
    "train = train.query('not (timestamp >= \"2016-09-27 23:00:00\" & timestamp <= \"2016-10-20 23:00:00\" & building_id == 1233 )')\n",
    "train = train.query('not (timestamp >= \"2016-09-27 23:00:00\" & timestamp <= \"2016-10-20 23:00:00\" & building_id == 1234 )')\n",
    "train = train.query('not (meter == 3 & timestamp >= \"2016-04-03 23:00:00\" & timestamp <= \"2016-05-09 23:00:00\" & building_id == 1235 )')\n",
    "train = train.query('not (timestamp >= \"2016-04-20 23:00:00\" & timestamp <= \"2016-05-02 23:00:00\" & building_id == 1240 )')\n",
    "train = train.query('not (meter == 3 & timestamp >= \"2016-04-03 23:00:00\" & timestamp <= \"2016-05-06 23:00:00\" & building_id == 1244 )')\n",
    "train = train.query('not (meter == 2 & timestamp >= \"2016-10-18 23:00:00\" & timestamp <= \"2016-11-08 23:00:00\" & building_id == 1243 )')\n",
    "train = train.query('not (meter == 0 & timestamp >= \"2016-07-13 00:00:00\" & timestamp <= \"2016-11-20 00:00:00\" & building_id == 1241 )')\n",
    "train = train.query('not (meter == 0 & timestamp >= \"2016-09-14 00:00:00\" & timestamp <= \"2016-09-30 00:00:00\" & building_id == 1232 )')\n",
    "train = train.query('not (meter == 0 & timestamp >= \"2016-07-13 00:00:00\" & timestamp <= \"2016-11-20 00:00:00\" & building_id == 1241 )')\n",
    "train = train.query('not (meter == 0 & timestamp >= \"2016-01-03 00:00:00\" & timestamp <= \"2016-03-09 00:00:00\" & building_id == 1234 )')\n",
    "train = train.query('not (meter == 0 & timestamp >= \"2016-01-03 00:00:00\" & timestamp <= \"2016-03-09 00:00:00\" & building_id == 1233 )')\n",
    "train = train.query('not (meter == 0 & timestamp >= \"2016-09-14 00:00:00\" & timestamp <= \"2016-10-01 00:00:00\" & building_id == 1232 )')\n",
    "train = train.query('not (meter == 3 &  timestamp <= \"2016-02-25 00:00:00\" & building_id == 1227 )')\n",
    "train = train.query('not (meter == 1 & timestamp >= \"2016-08-25 00:00:00\" & timestamp <= \"2016-10-01 00:00:00\" & building_id == 1226 )')\n",
    "train = train.query('not (meter == 1 & timestamp >= \"2016-08-25 00:00:00\" & timestamp <= \"2016-10-01 00:00:00\" & building_id == 1225 )')\n",
    "train = train.query('not (meter == 3 & timestamp <= \"2016-02-26 00:00:00\" & building_id == 1227 )')\n",
    "train = train.query('not (meter == 2 & timestamp <= \"2016-02-15 00:00:00\" & building_id == 1189 )')\n",
    "train = train.query('not (meter == 2 & timestamp <= \"2016-02-11 00:00:00\" & building_id == 1176 )')\n",
    "train = train.query('not (meter == 1 & timestamp >= \"2016-09-01 00:00:00\" & timestamp <= \"2016-09-22 00:00:00\" & building_id == 1226 )')\n",
    "train = train.query('not (meter == 1 & timestamp >= \"2016-09-01 00:00:00\" & timestamp <= \"2016-09-22 00:00:00\" & building_id == 1225 )')\n",
    "train = train.query('not (meter == 0 & timestamp <= \"2016-08-04 00:00:00\"& building_id == 1169 )')\n",
    "train = train.query('not (meter == 0 & timestamp <= \"2016-01-21 00:00:00\"& building_id == 1153 )')\n",
    "train = train.query('not (meter == 0 & timestamp <= \"2016-09-08 00:00:00\"& building_id == 1094 )')\n",
    "train = train.query('not (meter == 0 & timestamp <= \"2016-10-25 00:00:00\"& building_id == 1073 )')\n"
   ]
  },
  {
   "cell_type": "code",
   "execution_count": 72,
   "metadata": {},
   "outputs": [
    {
     "data": {
      "text/plain": [
       "1449"
      ]
     },
     "execution_count": 72,
     "metadata": {},
     "output_type": "execute_result"
    }
   ],
   "source": [
    "train[\"building_id\"] .nunique()"
   ]
  },
  {
   "cell_type": "code",
   "execution_count": 24,
   "metadata": {},
   "outputs": [],
   "source": [
    "# #ploter meter_reading dans toutes les sites\n",
    "# import matplotlib.pyplot \n",
    "# def plot_train(building_id):\n",
    "#     meters = train[train['building_id'] == building_id].meter.nunique()\n",
    "#     for meter in range(meters):\n",
    "#         fig, ax = plt.subplots()\n",
    "#         plt.title(f'Building {building_id} Meter {meter}')\n",
    "#         ax2 = ax.twinx()\n",
    "#         idx = (train['building_id'] == building_id) & (train['meter'] == meter)\n",
    "#         dates = matplotlib.dates.date2num(train.loc[idx, 'timestamp'])\n",
    "#         ax2.plot_date(dates, train.loc[idx, 'meter_reading'], '-', label='meter_reading')\n",
    "#         ax2.legend()\n",
    "#         plt.show()\n",
    "#         return fig"
   ]
  },
  {
   "cell_type": "code",
   "execution_count": 33,
   "metadata": {},
   "outputs": [],
   "source": [
    "# for b_id in b_id_list:\n",
    "#     plot_train(b_id)"
   ]
  },
  {
   "cell_type": "code",
   "execution_count": null,
   "metadata": {},
   "outputs": [],
   "source": []
  }
 ],
 "metadata": {
  "colab": {
   "name": "notebook29e4478e50 (5) (5).ipynb",
   "provenance": []
  },
  "environment": {
   "name": "tf2-gpu.2-3.m65",
   "type": "gcloud",
   "uri": "gcr.io/deeplearning-platform-release/tf2-gpu.2-3:m65"
  },
  "kernelspec": {
   "display_name": "Python 3",
   "language": "python",
   "name": "python3"
  },
  "language_info": {
   "codemirror_mode": {
    "name": "ipython",
    "version": 3
   },
   "file_extension": ".py",
   "mimetype": "text/x-python",
   "name": "python",
   "nbconvert_exporter": "python",
   "pygments_lexer": "ipython3",
   "version": "3.7.10"
  }
 },
 "nbformat": 4,
 "nbformat_minor": 4
}
